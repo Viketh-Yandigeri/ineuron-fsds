{
 "cells": [
  {
   "cell_type": "code",
   "execution_count": 13,
   "metadata": {},
   "outputs": [
    {
     "data": {
      "text/plain": [
       "24"
      ]
     },
     "execution_count": 13,
     "metadata": {},
     "output_type": "execute_result"
    }
   ],
   "source": [
    "#1. Write a Python Program to Find LCM?\n",
    "n1 = int(input())\n",
    "n2 = int(input())\n",
    "\n",
    "def compute_lcm(n1, n2):\n",
    "    \"\"\"Function to compute LCM of two given numbers\"\"\"\n",
    "    if n1 > n2:\n",
    "        higher = n1\n",
    "    else:\n",
    "        higher = n2\n",
    "    \n",
    "    flag = False\n",
    "    while(True):\n",
    "        if (higher % n1 == 0 and higher % n2 == 0):\n",
    "            break\n",
    "        else:\n",
    "            higher = higher + higher\n",
    "    return higher\n",
    "           \n",
    "\n",
    "compute_lcm(n1, n2)\n"
   ]
  },
  {
   "cell_type": "code",
   "execution_count": 18,
   "metadata": {},
   "outputs": [
    {
     "data": {
      "text/plain": [
       "3"
      ]
     },
     "execution_count": 18,
     "metadata": {},
     "output_type": "execute_result"
    }
   ],
   "source": [
    "#2. Write a Python Program to Find HCF?\n",
    "n1 = int(input())\n",
    "n2 = int(input())\n",
    "\n",
    "def compute_hcf(n1, n2):\n",
    "    \"\"\"Function to compute HCF of two given numbers\"\"\"\n",
    "    if n1 < n2:\n",
    "        lower = n1\n",
    "    else:\n",
    "        lower = n2\n",
    "\n",
    "    for i in range(1, lower + 1):\n",
    "        if (n1 % i == 0 and n2 % i == 0):\n",
    "            hcf =  i\n",
    "    return hcf\n",
    "            \n",
    "compute_hcf(n1, n2)"
   ]
  },
  {
   "cell_type": "code",
   "execution_count": 22,
   "metadata": {},
   "outputs": [
    {
     "name": "stdout",
     "output_type": "stream",
     "text": [
      "Binary of 24 is 0b11000\n",
      "Octal of 24 is 0o30\n",
      "Hexadecimal of 24 is 0x18\n"
     ]
    }
   ],
   "source": [
    "#3. Write a Python Program to Convert Decimal to Binary, Octal and Hexadecimal?\n",
    "number = int(input())\n",
    "def decimal_to_b_o_h(number):\n",
    "    \"\"\"Function to convert decimal to binary, octal and hexa decimal\"\"\"\n",
    "    print(f'Binary of {number} is {bin(number)}')\n",
    "    print(f'Octal of {number} is {oct(number)}')\n",
    "    print(f'Hexadecimal of {number} is {hex(number)}')\n",
    "\n",
    "decimal_to_b_o_h(number)"
   ]
  },
  {
   "cell_type": "code",
   "execution_count": 25,
   "metadata": {},
   "outputs": [
    {
     "name": "stdout",
     "output_type": "stream",
     "text": [
      "ASCII of A is 65\n"
     ]
    }
   ],
   "source": [
    "#4. Write a Python Program To Find ASCII value of a character?\n",
    "character = input()\n",
    "\n",
    "def convert(character):\n",
    "    \"\"\"Function to convert character to ASCII\"\"\"\n",
    "    print(f'ASCII of {character} is {ord(character)}')\n",
    "\n",
    "convert(character)"
   ]
  },
  {
   "cell_type": "code",
   "execution_count": 28,
   "metadata": {},
   "outputs": [
    {
     "name": "stdout",
     "output_type": "stream",
     "text": [
      "float division by zero\n"
     ]
    }
   ],
   "source": [
    "#5. Write a Python Program to Make a Simple Calculator with 4 basic mathematical operations?\n",
    "n1 = float(input())\n",
    "operator = input()\n",
    "n2 = float(input())\n",
    "\n",
    "def calculator(n1, operator, n2):\n",
    "    try:\n",
    "        if operator == '+':\n",
    "            print(f'Addition of {n1} and {n2} is {n1 + n2}')\n",
    "        elif operator == '-':\n",
    "            print(f'Substraction of {n1} and {n2} is {n1 - n2}')\n",
    "        elif operator == '*':\n",
    "            print(f'Multiplication of {n1} and {n2} is {n1 * n2}')\n",
    "        elif operator == '/':\n",
    "            print(f'Multiplication of {n1} and {n2} is {n1 / n2}')\n",
    "        else:\n",
    "            print('Not valid operator')\n",
    "    except Exception as error:\n",
    "        print(error)\n",
    "\n",
    "calculator(n1, operator, n2)"
   ]
  },
  {
   "cell_type": "code",
   "execution_count": null,
   "metadata": {},
   "outputs": [],
   "source": []
  }
 ],
 "metadata": {
  "interpreter": {
   "hash": "f5b7cddf85b3491eae8720afd2a3bcb816f20cfdf41ac4ff4f3ecb0f8c6871b8"
  },
  "kernelspec": {
   "display_name": "Python 3.10.2 64-bit",
   "language": "python",
   "name": "python3"
  },
  "language_info": {
   "codemirror_mode": {
    "name": "ipython",
    "version": 3
   },
   "file_extension": ".py",
   "mimetype": "text/x-python",
   "name": "python",
   "nbconvert_exporter": "python",
   "pygments_lexer": "ipython3",
   "version": "3.10.2"
  },
  "orig_nbformat": 4
 },
 "nbformat": 4,
 "nbformat_minor": 2
}
