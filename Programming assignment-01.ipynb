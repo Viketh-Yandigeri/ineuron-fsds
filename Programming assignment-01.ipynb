{
 "cells": [
  {
   "cell_type": "markdown",
   "metadata": {},
   "source": [
    "1.Write a Python program to print \"Hello Python\"?\n",
    "\n",
    "Ans:\n",
    "print(\"Hello python\")\n"
   ]
  },
  {
   "cell_type": "markdown",
   "metadata": {},
   "source": [
    "2.Write a Python program to do arithmetical operations addition and division.?\n",
    "\n",
    "Ans:\n",
    "\n",
    "try:\n",
    "    a = float(input())\n",
    "    b = float(input())\n",
    "    sum = int(a + b)\n",
    "    division = a / b\n",
    "except Exception as error:\n",
    "    print(error)\n",
    "\n"
   ]
  },
  {
   "cell_type": "markdown",
   "metadata": {},
   "source": [
    "3.Write a Python program to find the area of a triangle?\n",
    "\n",
    "Ans:\n",
    "try:\n",
    "    # Taking input from user for lengths of triangle\n",
    "    a = float(input())\n",
    "    b = float(input()) \n",
    "    c = float(input())\n",
    "\n",
    "    #Semi-perimeter\n",
    "    s = (a + b + c) / 2\n",
    "\n",
    "    #Area of triangle\n",
    "    area = (s*(s-a)*(s-b)*(s-c))*0.5\n",
    "except Exception as error:\n",
    "    print(error)\n",
    "\n",
    "\n",
    "\n"
   ]
  },
  {
   "cell_type": "markdown",
   "metadata": {},
   "source": [
    "4.Write a Python program to swap two variables?\n",
    "\n",
    "Ans:\n",
    "try:\n",
    "    a = input()\n",
    "    b = input()\n",
    "    #Logic to swap\n",
    "    temp = a\n",
    "    a = b\n",
    "    b = temp\n",
    "    print(a, b)\n",
    "\n",
    "except Exception as error:\n",
    "    print(error)\n",
    "    \n"
   ]
  },
  {
   "cell_type": "markdown",
   "metadata": {},
   "source": [
    "5.Write a Python program to generate a random number?\n",
    "\n",
    "Ans:\n",
    "import random\n",
    "print(random.random())\n"
   ]
  },
  {
   "cell_type": "markdown",
   "metadata": {},
   "source": []
  }
 ],
 "metadata": {
  "interpreter": {
   "hash": "96fd4011a1b38f0e2788c7378cfb6b302ebb2697ddabc169dbb3d18b70997eb1"
  },
  "kernelspec": {
   "display_name": "Python 3.10.0 64-bit",
   "language": "python",
   "name": "python3"
  },
  "language_info": {
   "codemirror_mode": {
    "name": "ipython",
    "version": 3
   },
   "file_extension": ".py",
   "mimetype": "text/x-python",
   "name": "python",
   "nbconvert_exporter": "python",
   "pygments_lexer": "ipython3",
   "version": "3.10.0"
  },
  "orig_nbformat": 4
 },
 "nbformat": 4,
 "nbformat_minor": 2
}
