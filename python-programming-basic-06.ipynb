{
 "cells": [
  {
   "cell_type": "code",
   "execution_count": 20,
   "metadata": {},
   "outputs": [
    {
     "name": "stdout",
     "output_type": "stream",
     "text": [
      "Fibonacci series: \n",
      "0 1 1 2 3 5 8 13 21 34 "
     ]
    }
   ],
   "source": [
    "#1. Write a Python Program to Display Fibonacci Sequence Using Recursion?\n",
    "\n",
    "def fibonacci(number):\n",
    "    \"\"\"Function to find fibonacci value of nth number\"\"\"\n",
    "        if number <= 1:\n",
    "            return number\n",
    "        else:\n",
    "            return fibonacci(number-2)+fibonacci(number-1)\n",
    "    \n",
    "number = int(input('Enter a nth value of fibonacci sequence: '))           \n",
    "\n",
    "if number < 0:\n",
    "    print(\"Provide a positive integer\")\n",
    "else:\n",
    "    print('Fibonacci series: ')\n",
    "    for i in range(0, number):\n",
    "        print(fibonacci(i), end=\" \")\n",
    "\n",
    "        "
   ]
  },
  {
   "cell_type": "code",
   "execution_count": 33,
   "metadata": {},
   "outputs": [
    {
     "name": "stdout",
     "output_type": "stream",
     "text": [
      "120\n"
     ]
    }
   ],
   "source": [
    "#2. Write a Python Program to Find Factorial of Number Using Recursion?\n",
    "\n",
    "def factorial(number):\n",
    "    \"\"\"Function to find factorial of a number\"\"\"\n",
    "    if number < 0:\n",
    "        print(\"Please provide positive integer\")\n",
    "    elif number <= 0:\n",
    "        return 1\n",
    "    else:\n",
    "        return number * factorial(number - 1)\n",
    "try:\n",
    "    number = int(input('Enter a number to find its factorial: '))\n",
    "    print(factorial(number))\n",
    "except Exception as error:\n",
    "    print('Error is: ', error)"
   ]
  },
  {
   "cell_type": "code",
   "execution_count": 38,
   "metadata": {},
   "outputs": [
    {
     "data": {
      "text/plain": [
       "28.075042938300964"
      ]
     },
     "execution_count": 38,
     "metadata": {},
     "output_type": "execute_result"
    }
   ],
   "source": [
    "#3. Write a Python Program to calculate your Body Mass Index?\n",
    "weight = float(input(\"Please enter mass in kg\"))\n",
    "height = float(input(\"Please enter height in meters\"))\n",
    "def BMI(weight, height):\n",
    "    if weight < 0:\n",
    "        print(\"Please provide valid weight\")\n",
    "    elif height < 0:\n",
    "        print(\"Please enter valid height\")\n",
    "    else:\n",
    "        return weight/height**2\n",
    "\n",
    "BMI(weight, height)"
   ]
  },
  {
   "cell_type": "code",
   "execution_count": 41,
   "metadata": {},
   "outputs": [
    {
     "name": "stdout",
     "output_type": "stream",
     "text": [
      "3.4011973816621555\n"
     ]
    }
   ],
   "source": [
    "#4. Write a Python Program to calculate the natural logarithm of any number?\n",
    "import math\n",
    "def ln(number):\n",
    "    return math.log(number)\n",
    "\n",
    "try:\n",
    "    number = float(input('Enter a number: '))\n",
    "    print(ln(number))\n",
    "except Exception as error:\n",
    "    print('Error is: ', error)\n"
   ]
  },
  {
   "cell_type": "code",
   "execution_count": 52,
   "metadata": {},
   "outputs": [
    {
     "data": {
      "text/plain": [
       "225"
      ]
     },
     "execution_count": 52,
     "metadata": {},
     "output_type": "execute_result"
    }
   ],
   "source": [
    "#5. Write a Python Program for cube sum of first n natural numbers?\n",
    "number = int(input('Enter a positive integer'))\n",
    "def natural(number):\n",
    "    if number <= 0:\n",
    "        print(\"Enter a positive integer number\")\n",
    "    else:\n",
    "        sum = 0\n",
    "        for i in range(1, number+1):\n",
    "            sum = sum + i**3\n",
    "    return sum\n",
    "\n",
    "natural(number)"
   ]
  }
 ],
 "metadata": {
  "interpreter": {
   "hash": "f5b7cddf85b3491eae8720afd2a3bcb816f20cfdf41ac4ff4f3ecb0f8c6871b8"
  },
  "kernelspec": {
   "display_name": "Python 3.10.2 64-bit",
   "language": "python",
   "name": "python3"
  },
  "language_info": {
   "codemirror_mode": {
    "name": "ipython",
    "version": 3
   },
   "file_extension": ".py",
   "mimetype": "text/x-python",
   "name": "python",
   "nbconvert_exporter": "python",
   "pygments_lexer": "ipython3",
   "version": "3.10.2"
  },
  "orig_nbformat": 4
 },
 "nbformat": 4,
 "nbformat_minor": 2
}
