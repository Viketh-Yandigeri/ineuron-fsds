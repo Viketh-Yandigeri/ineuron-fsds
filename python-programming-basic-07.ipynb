{
 "cells": [
  {
   "cell_type": "code",
   "execution_count": 18,
   "metadata": {},
   "outputs": [
    {
     "name": "stdout",
     "output_type": "stream",
     "text": [
      "10.0\n"
     ]
    }
   ],
   "source": [
    "#1. Write a Python Program to find sum of array?\n",
    "def sum_array(user_input):\n",
    "    \"\"\"Function to return sum of elements in an array\"\"\"\n",
    "    sum = 0\n",
    "    for i in user_input:\n",
    "        sum = sum + i\n",
    "    return sum\n",
    "\n",
    "try:\n",
    "    #User to input numbers with space seperated\n",
    "    user_input = list(map(float, input().strip().split()))\n",
    "    print(sum_array(user_input))\n",
    "except Exception as error:\n",
    "    print('Error is:', error)"
   ]
  },
  {
   "cell_type": "code",
   "execution_count": 17,
   "metadata": {},
   "outputs": [
    {
     "name": "stdout",
     "output_type": "stream",
     "text": [
      "9.0\n"
     ]
    }
   ],
   "source": [
    "#2. Write a Python Program to find largest element in an array?\n",
    "def largest(user_input):\n",
    "    \"\"\"Function to find largest number in a list\"\"\"\n",
    "    largest = 0\n",
    "    for i in user_input:\n",
    "        if i > largest:\n",
    "            largest = i\n",
    "    return largest\n",
    "\n",
    "try:\n",
    "    #User to input numbers with space seperated\n",
    "    user_input = list(map(float, input().strip().split()))\n",
    "    print(largest(user_input))\n",
    "except Exception as error:\n",
    "    print('Error is:', error)\n",
    "\n",
    "\n",
    "   \n"
   ]
  },
  {
   "cell_type": "code",
   "execution_count": 26,
   "metadata": {},
   "outputs": [
    {
     "name": "stdout",
     "output_type": "stream",
     "text": [
      "['c', 'b', 'a']\n"
     ]
    }
   ],
   "source": [
    "#3. Write a Python Program for array rotation?\n",
    "def array_rotation(user_input):\n",
    "    list_rot = []\n",
    "    for i in range(0, len(user_input)):\n",
    "        list_rot.append(user_input[len(user_input) - i - 1])\n",
    "    return list_rot\n",
    "\n",
    "try:\n",
    "    #User to input values with space seperated\n",
    "    user_input = list(map(str, input().strip().split()))\n",
    "    print(array_rotation(user_input))\n",
    "except Exception as error:\n",
    "    print('Error is:', error)"
   ]
  },
  {
   "cell_type": "code",
   "execution_count": 30,
   "metadata": {},
   "outputs": [
    {
     "name": "stdout",
     "output_type": "stream",
     "text": [
      "['5', '6', '7', '8', '9', '1', '2', '3', '4']\n"
     ]
    }
   ],
   "source": [
    "#4. Write a Python Program to Split the array and add the first part to the end?\n",
    "def split(user_input):\n",
    "    \"\"\"Function to split the first half of array and insert it to last\"\"\"\n",
    "    n = int(len(user_input)/2)\n",
    "    temp = user_input[0:n]\n",
    "    del user_input[0:n]\n",
    "    user_input.extend(temp)\n",
    "    return user_input\n",
    "\n",
    "try:\n",
    "    #User to input values with space seperated\n",
    "    user_input = list(map(str, input().strip().split()))\n",
    "    print(split(user_input))\n",
    "except Exception as error:\n",
    "    print('Error is:', error)"
   ]
  },
  {
   "cell_type": "code",
   "execution_count": 82,
   "metadata": {},
   "outputs": [
    {
     "name": "stdout",
     "output_type": "stream",
     "text": [
      "Not monotonic\n"
     ]
    }
   ],
   "source": [
    "#5. Write a Python Program to check if given array is Monotonic?\n",
    "def monotonic(user_input):\n",
    "    counter1 = 0\n",
    "    counter2 = 0\n",
    "\n",
    "    for i in range(0,len(user_input)-1):\n",
    "        if user_input[i] > user_input[i+1]:\n",
    "            counter1 = counter1 + 1\n",
    "    \n",
    "    for i in range(0,len(user_input)-1):\n",
    "        if user_input[i] < user_input[i+1]:\n",
    "            counter2 = counter2 + 1\n",
    "    return [counter1, counter2]\n",
    "\n",
    "try:\n",
    "    #User to input values with space seperated\n",
    "    user_input = list(map(str, input().strip().split()))\n",
    "    x = monotonic(user_input)\n",
    "    if x[0] == 0 or x[1] == 0:\n",
    "        print('Monotonic')\n",
    "    else:\n",
    "        print('Not monotonic')\n",
    "\n",
    "except Exception as error:\n",
    "    print('Error is:', error)"
   ]
  },
  {
   "cell_type": "markdown",
   "metadata": {},
   "source": []
  }
 ],
 "metadata": {
  "interpreter": {
   "hash": "f5b7cddf85b3491eae8720afd2a3bcb816f20cfdf41ac4ff4f3ecb0f8c6871b8"
  },
  "kernelspec": {
   "display_name": "Python 3.10.2 64-bit",
   "language": "python",
   "name": "python3"
  },
  "language_info": {
   "codemirror_mode": {
    "name": "ipython",
    "version": 3
   },
   "file_extension": ".py",
   "mimetype": "text/x-python",
   "name": "python",
   "nbconvert_exporter": "python",
   "pygments_lexer": "ipython3",
   "version": "3.10.2"
  },
  "orig_nbformat": 4
 },
 "nbformat": 4,
 "nbformat_minor": 2
}
