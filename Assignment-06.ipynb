{
 "cells": [
  {
   "cell_type": "markdown",
   "metadata": {},
   "source": [
    "1.What are escape characters, and how do you use them?\n",
    "\n",
    "Ans:\n",
    "\n",
    "These are special characters within the string.\n",
    "Ex: print(\"Hello world\\n\")"
   ]
  },
  {
   "cell_type": "markdown",
   "metadata": {},
   "source": [
    "2.What do the escape characters n and t stand for?\n",
    "\n",
    "Ans:\n",
    "\n",
    "\\n - new line\n",
    "\\t- tab"
   ]
  },
  {
   "cell_type": "markdown",
   "metadata": {},
   "source": [
    "3.What is the way to include backslash characters in a string?\n",
    "\n",
    "Ans:\n",
    "\n",
    "By using \"\\\\\"\n"
   ]
  },
  {
   "cell_type": "markdown",
   "metadata": {},
   "source": [
    "4.The string \"Howl\"s Moving Castle\" is a correct value. Why isn&#39;t the single quote character in the\n",
    "word Howl\"s not escaped a problem?\n",
    "\n",
    "Ans:\n",
    "\n",
    "Because the whole string is enclosed in doble bracket. "
   ]
  },
  {
   "cell_type": "markdown",
   "metadata": {},
   "source": [
    "5.How do you write a string of newlines if you don't want to use the n character?\n",
    "\n",
    "Ans:\n",
    "\n",
    "By using multiline string\n",
    "\n",
    "Ex:\n",
    "\"\"\"Welcome to Ineuron\n",
    "   Datascience FS\"\"\"\n"
   ]
  },
  {
   "cell_type": "markdown",
   "metadata": {},
   "source": [
    "6.What are the values of the given expressions?\n",
    "\n",
    "Ans:\n",
    "\n",
    "\"Hello, world!\"[1] = \"e\"\n",
    "\"Hello, world!\"[0:5] = \"Hello\"\n",
    "\"Hello, world!\"[:5] = \"Hello\"\n",
    "\"Hello, world!\"[3:] = \"lo, world!\""
   ]
  },
  {
   "cell_type": "markdown",
   "metadata": {},
   "source": [
    "7.What are the values of the following expressions?\n",
    "\n",
    "Ans:\n",
    "\n",
    "\"Hello\".upper() = \"HELLO\"\n",
    "\"Hello\".upper().isupper() = True\n",
    "\"Hello\".upper().lower() = \"lower\""
   ]
  },
  {
   "cell_type": "markdown",
   "metadata": {},
   "source": [
    "8.What are the values of the following expressions?\n",
    "\n",
    "Ans:\n",
    "\n",
    "\"Remember, remember, the fifth of July.\".split() = ['Remember,', 'remember,', 'the', 'fifth', 'of', 'July.']\n",
    "\"-\".join(\"There can only one.\".split()) = 'There-can-only-one.'\n"
   ]
  },
  {
   "cell_type": "markdown",
   "metadata": {},
   "source": [
    "9.What are the methods for right-justifying, left-justifying, and centering a string?\n",
    "\n",
    "Ans:\n",
    "\n",
    "right-justifying -  string.rjust(length, characters)\n",
    "left-justifying -  string.ljust(length, characters)\n",
    "center-justifying -  string.center(length, characters)"
   ]
  },
  {
   "cell_type": "markdown",
   "metadata": {},
   "source": [
    "10.What is the best way to remove whitespace characters from the start or end?\n",
    "\n",
    "Ans:\n",
    "\n",
    "lstrip() or rstrip()"
   ]
  }
 ],
 "metadata": {
  "interpreter": {
   "hash": "96fd4011a1b38f0e2788c7378cfb6b302ebb2697ddabc169dbb3d18b70997eb1"
  },
  "kernelspec": {
   "display_name": "Python 3.10.0 64-bit",
   "language": "python",
   "name": "python3"
  },
  "language_info": {
   "codemirror_mode": {
    "name": "ipython",
    "version": 3
   },
   "file_extension": ".py",
   "mimetype": "text/x-python",
   "name": "python",
   "nbconvert_exporter": "python",
   "pygments_lexer": "ipython3",
   "version": "3.10.0"
  },
  "orig_nbformat": 4
 },
 "nbformat": 4,
 "nbformat_minor": 2
}
