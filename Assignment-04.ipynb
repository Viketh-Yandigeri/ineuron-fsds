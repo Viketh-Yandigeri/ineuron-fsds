{
 "cells": [
  {
   "cell_type": "markdown",
   "metadata": {},
   "source": []
  },
  {
   "cell_type": "markdown",
   "metadata": {},
   "source": [
    "1.What exactly is []?\n",
    "\n",
    "Ans:\n",
    "\n",
    "It is a list(Empty list) which contains no items \n"
   ]
  },
  {
   "cell_type": "markdown",
   "metadata": {},
   "source": [
    "2.In a list of values stored in a variable called spam, how would you assign the value 'hello' as the\n",
    "third value? (Assume [2, 4, 6, 8, 10] are in spam.)\n",
    "\n",
    "Ans:\n",
    "\n",
    "spam[2] = \"hello\"\n"
   ]
  },
  {
   "cell_type": "markdown",
   "metadata": {},
   "source": [
    "3.What is the value of spam[int(int('3' * 2) / 11)]?\n",
    "\n",
    "Ans:\n",
    "\n",
    "spam[3] = 'd'"
   ]
  },
  {
   "cell_type": "markdown",
   "metadata": {},
   "source": [
    "4.What is the value of spam[-1]?\n",
    "\n",
    "Ans:\n",
    "\n",
    "spam[-1] = 'd'"
   ]
  },
  {
   "cell_type": "markdown",
   "metadata": {},
   "source": [
    "5.What is the value of spam[:2]?\n",
    "\n",
    "Ans:\n",
    "\n",
    "['a', 'b']"
   ]
  },
  {
   "cell_type": "markdown",
   "metadata": {},
   "source": [
    "6.What is the value of bacon.index('cat')?\n",
    "\n",
    "Ans:\n",
    "\n",
    "bacon.index('cat') = 1"
   ]
  },
  {
   "cell_type": "markdown",
   "metadata": {},
   "source": [
    "7.How does bacon.append(99) change the look of the list value in bacon?\n",
    "\n",
    "Ans:\n",
    "\n",
    "It appends value 99 at the end of the list\n",
    "[3.14, 'cat' 11, 'cat' True, 99]"
   ]
  },
  {
   "cell_type": "markdown",
   "metadata": {},
   "source": [
    "8.How does bacon.remove('cat') change the look of the list in bacon?\n",
    "\n",
    "Ans: It removes first occurence of 'cat'\n",
    "\n",
    "[3.14, 11, 'cat', True]\n"
   ]
  },
  {
   "cell_type": "markdown",
   "metadata": {},
   "source": [
    "9.What are the list concatenation and list replication operators?\n",
    "\n",
    "Ans:\n",
    "\n",
    "+(addition) operator is used to concatanate multiple lists\n",
    "*(multiplication) operator can be used to replicate the list "
   ]
  },
  {
   "cell_type": "markdown",
   "metadata": {},
   "source": [
    "10.What is difference between the list methods append() and insert()?\n",
    "\n",
    "Ans:\n",
    "\n",
    "append() always inserts the value at the end of list.\n",
    "\n",
    "insert() inserts the value at the specified index"
   ]
  },
  {
   "cell_type": "markdown",
   "metadata": {},
   "source": [
    "11.What are the two methods for removing items from a list?\n",
    "\n",
    "Ans:\n",
    "\n",
    "del which removes item from a list at the specified index\n",
    "\n",
    "remove() deletes specified value."
   ]
  },
  {
   "cell_type": "markdown",
   "metadata": {},
   "source": [
    "12.Describe how list values and string values are identical.\n",
    "\n",
    "Ans:\n",
    "\n",
    "Items in both can be accessed by the index, slicing operations and both are sequence data type."
   ]
  },
  {
   "cell_type": "markdown",
   "metadata": {},
   "source": [
    "13.What's the difference between tuples and lists?\n",
    "\n",
    "Ans:\n",
    "\n",
    "List are mutatable whereas tuples are immutatable.\n",
    "list is defined using [] and tuple with ()"
   ]
  },
  {
   "cell_type": "markdown",
   "metadata": {},
   "source": [
    "14.How do you type a tuple value that only contains the integer 42?\n",
    "\n",
    "Ans:\n",
    "\n",
    "tup = (42, )"
   ]
  },
  {
   "cell_type": "markdown",
   "metadata": {},
   "source": [
    "15.How do you get a list value's tuple form? How do you get a tuple value's list form?\n",
    "\n",
    "Ans:\n",
    "\n",
    "To convert list to tuple, tuple() function can be used\n",
    "To convert tuple to list, list() function can be used\n"
   ]
  },
  {
   "cell_type": "markdown",
   "metadata": {},
   "source": [
    "16.Variables that \"contain\" list values are not necessarily lists themselves. Instead, what do they\n",
    "contain?\n",
    "\n",
    "Ans:\n",
    "\n",
    "They contain references to the list values"
   ]
  },
  {
   "cell_type": "markdown",
   "metadata": {},
   "source": [
    "17.How do you distinguish between copy.copy() and copy.deepcopy()?\n",
    "\n",
    "Ans:\n",
    "copy.copy() will copy the the parent list only\n",
    "\n",
    "but copy.deepcopy() which also make copy of list contaning list\n"
   ]
  }
 ],
 "metadata": {
  "interpreter": {
   "hash": "96fd4011a1b38f0e2788c7378cfb6b302ebb2697ddabc169dbb3d18b70997eb1"
  },
  "kernelspec": {
   "display_name": "Python 3.10.0 64-bit",
   "language": "python",
   "name": "python3"
  },
  "language_info": {
   "name": "python",
   "version": "3.10.0"
  },
  "orig_nbformat": 4
 },
 "nbformat": 4,
 "nbformat_minor": 2
}
