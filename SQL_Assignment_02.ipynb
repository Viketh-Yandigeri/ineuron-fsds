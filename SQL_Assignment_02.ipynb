{
 "cells": [
  {
   "cell_type": "markdown",
   "metadata": {},
   "source": [
    "Q-1. Write an SQL query to print the first three characters of  FIRST_NAME from Worker\n",
    "table.\n",
    "\n",
    "Ans:\n",
    "SELECT SUBSTRING(FIRST_NAME, 1, 3) FROM Worker  \n"
   ]
  },
  {
   "cell_type": "markdown",
   "metadata": {},
   "source": [
    "Q-2. Write an SQL query to find the position of the alphabet (‘a’) in the first name\n",
    "column ‘Amitabh’ from Worker table.\n",
    "\n",
    "Ans:\n",
    "SELECT INSTR(FIRST_NAME, BINARY'a') FROM Worker WHERE FIRST_NAME = 'Amitabh' \n",
    "\n"
   ]
  },
  {
   "cell_type": "markdown",
   "metadata": {},
   "source": [
    "Q-3. Write an SQL query to print the name of employees having the highest salary in each\n",
    "department.\n",
    "\n",
    "Ans:\n",
    "\n",
    "SELECT FIRST_NAME, LAST_NAME DEPARTMENT, WORKER_ID, MAX(SALARY) FROM Worker GROUP BY DEPARTMENT\n"
   ]
  }
 ],
 "metadata": {
  "language_info": {
   "name": "python"
  },
  "orig_nbformat": 4
 },
 "nbformat": 4,
 "nbformat_minor": 2
}
