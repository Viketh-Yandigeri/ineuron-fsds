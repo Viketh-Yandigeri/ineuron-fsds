{
 "cells": [
  {
   "cell_type": "code",
   "execution_count": null,
   "metadata": {},
   "outputs": [],
   "source": [
    "1.What are the two values of the Boolean data type? How do you write them?\n",
    "\n",
    "Ans:\n",
    "True(Non-zero values) and False(0)"
   ]
  },
  {
   "cell_type": "code",
   "execution_count": null,
   "metadata": {},
   "outputs": [],
   "source": [
    "2.What are the three different types of Boolean operators?\n",
    "\n",
    "Ans: These are called logical operators.\n",
    "-and operator\n",
    "-or operator\n",
    "-not operator"
   ]
  },
  {
   "cell_type": "markdown",
   "metadata": {},
   "source": [
    "3.Make a list of each Boolean operator's truth tables (i.e. every possible combination of Boolean\n",
    "values for the operator and what it evaluate ).\n",
    "\n",
    "Ans:\n",
    "\n",
    "AND operator\n",
    "\n",
    "| x | y | xy |\n",
    "|---|---|----|\n",
    "| 0 | 0 | 0  |\n",
    "| 1 | 0 | 0  |\n",
    "| 0 | 1 | 0  |\n",
    "| 1 | 1 | 1  |\n",
    "\n",
    "OR operator\n",
    "\n",
    "| x | y | xy |\n",
    "|---|---|----|\n",
    "| 0 | 0 | 0  |\n",
    "| 1 | 0 | 1  |\n",
    "| 0 | 1 | 1  |\n",
    "| 1 | 1 | 1  |\n",
    "\n",
    "NOT operator\n",
    "\n",
    "| x |!x |\n",
    "|---|---|\n",
    "| 0 | 1 |\n",
    "| 1 | 0 |\n",
    "\n",
    "\n"
   ]
  },
  {
   "cell_type": "code",
   "execution_count": null,
   "metadata": {},
   "outputs": [],
   "source": [
    "4.What are the values of the following expressions?\n",
    "\n",
    "Ans:\n",
    "\n",
    "(5 > 4) and (3 == 5)------------------False\n",
    "not (5 > 4)---------------------------False\n",
    "(5 > 4) or (3 == 5)-------------------True\n",
    "not ((5 > 4) or (3 == 5))-------------False\n",
    "(True and True) and (True == False)---False\n",
    "(not False) or (not True)-------------True"
   ]
  },
  {
   "cell_type": "code",
   "execution_count": null,
   "metadata": {},
   "outputs": [],
   "source": [
    "5.What are the six comparison operators?\n",
    "\n",
    "Ans:\n",
    "\n",
    "==(Equal to)\n",
    "!=(Not equal to)\n",
    ">(Greater than)\n",
    ">=(Greater than or equal to)\n",
    "<(Less than)\n",
    "<=(Less than or equal to)\n"
   ]
  },
  {
   "cell_type": "code",
   "execution_count": null,
   "metadata": {},
   "outputs": [],
   "source": [
    "6.How do you tell the difference between the equal to and assignment operators?Describe a\n",
    "condition and when you would use one.\n",
    "\n",
    "Ans:\n",
    "\n",
    "In order to use 'Equal to' operator, '==' need to be used. This operator is used to know if two objects have same value.(Ex:k == 5, if value of k is 5, then expression evaluates true)\n",
    "To assign a value to a variable, '=' need to be used. This assigns a value from right to left.(ex: a = 2)"
   ]
  },
  {
   "cell_type": "code",
   "execution_count": null,
   "metadata": {},
   "outputs": [],
   "source": [
    "7.Identify the three blocks in this code:\n",
    "\n",
    "spam = 0\n",
    "#1st Block\n",
    "if spam == 10:\n",
    "    print('eggs')\n",
    "\n",
    "#2nd Block\n",
    "if spam > 5:\n",
    "    print('bacon')\n",
    "    \n",
    "#3rd Block\n",
    "else:\n",
    "    print('ham')\n",
    "    print('spam')\n",
    "    print('spam')"
   ]
  },
  {
   "cell_type": "code",
   "execution_count": null,
   "metadata": {},
   "outputs": [],
   "source": [
    "8.Write code that prints Hello if 1 is stored in spam, prints Howdy if 2 is stored in spam, and prints\n",
    "Greetings! if anything else is stored in spam.\n",
    "\n",
    "Ans:\n",
    "\n",
    "try:\n",
    "    spam = input()\n",
    "    if spam.isnumeric():\n",
    "        if int(spam) == 1:\n",
    "            print(\"Hello\\n\")\n",
    "        elif int(spam) == 2:\n",
    "            print(\"Howdy\\n\")\n",
    "        else:\n",
    "            print(\"Grertings!\")\n",
    "    else:\n",
    "        print(\"Greetings!\")\n",
    "\n",
    "except Exception as error:\n",
    "    print(error)\n",
    "        "
   ]
  },
  {
   "cell_type": "code",
   "execution_count": null,
   "metadata": {},
   "outputs": [],
   "source": [
    "9.If your programme is stuck in an endless loop, what keys you’ll press?\n",
    "\n",
    "Ans:\n",
    "\n",
    "Ctrl + c\n"
   ]
  },
  {
   "cell_type": "code",
   "execution_count": null,
   "metadata": {},
   "outputs": [],
   "source": [
    "10.How can you tell the difference between break and continue?\n",
    "\n",
    "Ans:\n",
    "\n",
    "If a break statement is encountered during run, it terminates the loop and program control passed to next line of code after the loop.\n",
    "If a continue statemnet is encountered, only current iteration of the loop is skipped and loop continues to next iteration."
   ]
  },
  {
   "cell_type": "code",
   "execution_count": null,
   "metadata": {},
   "outputs": [],
   "source": [
    "11.In a for loop, what is the difference between range(10), range(0, 10), and range(0, 10, 1)?\n",
    "\n",
    "Ans:\n",
    "\n",
    "range(10) functions generates the sequence of numbers from 0(default of start set to 0) to 10(stop) and default step value of 1.\n",
    "range(0, 10) functions generates the sequence of numbers from 0(start) to 10(stop) with default step value of 1.\n",
    "range(0, 10, 1) functions generates the sequence of numbers from 0(start) to 10(stop) with step value of 1.\n"
   ]
  },
  {
   "cell_type": "code",
   "execution_count": null,
   "metadata": {},
   "outputs": [],
   "source": [
    "12.Write a short program that prints the numbers 1 to 10 using a for loop. Then write an equivalent\n",
    "program that prints the numbers 1 to 10 using a while loop.\n",
    "\n",
    "Ans:\n",
    "for loop\n",
    "\n",
    "for i in range(1, 11):\n",
    "    print(i)\n",
    "\n",
    "while loop\n",
    "\n",
    "i = 1\n",
    "while i < 11:\n",
    "    print(i)\n",
    "    i += 1"
   ]
  },
  {
   "cell_type": "code",
   "execution_count": null,
   "metadata": {},
   "outputs": [],
   "source": [
    "13.If you had a function named bacon() inside a module named spam, how would you call it after\n",
    "importing spam?\n",
    "\n",
    "Ans:\n",
    "\n",
    "import spam\n",
    "spam.bacon()"
   ]
  },
  {
   "cell_type": "markdown",
   "metadata": {},
   "source": []
  }
 ],
 "metadata": {
  "interpreter": {
   "hash": "96fd4011a1b38f0e2788c7378cfb6b302ebb2697ddabc169dbb3d18b70997eb1"
  },
  "kernelspec": {
   "display_name": "Python 3.10.0 64-bit",
   "language": "python",
   "name": "python3"
  },
  "language_info": {
   "codemirror_mode": {
    "name": "ipython",
    "version": 3
   },
   "file_extension": ".py",
   "mimetype": "text/x-python",
   "name": "python",
   "nbconvert_exporter": "python",
   "pygments_lexer": "ipython3",
   "version": "3.10.0"
  },
  "orig_nbformat": 4
 },
 "nbformat": 4,
 "nbformat_minor": 2
}
