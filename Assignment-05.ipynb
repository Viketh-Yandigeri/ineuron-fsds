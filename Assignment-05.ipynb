{
 "cells": [
  {
   "cell_type": "markdown",
   "metadata": {},
   "source": [
    "1.What does an empty dictionary's code look like?\n",
    "\n",
    "Ans:\n",
    "d = {}"
   ]
  },
  {
   "cell_type": "markdown",
   "metadata": {},
   "source": [
    "2.What is the value of a dictionary value with the key 'foo' and the value 42?\n",
    "\n",
    "Ans:\n",
    "\n",
    "{'foo':42}"
   ]
  },
  {
   "cell_type": "markdown",
   "metadata": {},
   "source": [
    "3.What is the most significant distinction between a dictionary and a list?\n",
    "\n",
    "Ans:\n",
    "\n",
    "List is ordered and dictionary is unordered"
   ]
  },
  {
   "cell_type": "markdown",
   "metadata": {},
   "source": [
    "4.What happens if you try to access spam['foo'] if spam is {'bar': 100}?\n",
    "\n",
    "Ans:\n",
    "\n",
    "Keyerror "
   ]
  },
  {
   "cell_type": "markdown",
   "metadata": {},
   "source": [
    "5.If a dictionary is stored in spam, what is the difference between the expressions 'cat' in spam and\n",
    "'cat' in spam.keys()?\n",
    "\n",
    "Ans:\n",
    "\n",
    "There is no difference as both check if 'cat' is present in keys of dictionary."
   ]
  },
  {
   "cell_type": "markdown",
   "metadata": {},
   "source": [
    "6.If a dictionary is stored in spam, what is the difference between the expressions 'cat' in spam and\n",
    "'cat' in spam.values()?\n",
    "\n",
    "'cat' in spam checks if 'cat' is present in keys of dictionary\n",
    "'cat' in spam.values() checks if 'cat' is present in values of dictionary."
   ]
  },
  {
   "cell_type": "markdown",
   "metadata": {},
   "source": [
    "7.What is a shortcut for the following code?\n",
    "\n",
    "Ans:\n",
    "\n",
    "spam.setdefault('color', 'black')"
   ]
  },
  {
   "cell_type": "markdown",
   "metadata": {},
   "source": [
    "8.How do you 'pretty print' dictionary values using which module and function?\n",
    "\n",
    "Ans:\n",
    "\n",
    "pprint.pprint(dictionary)"
   ]
  }
 ],
 "metadata": {
  "interpreter": {
   "hash": "96fd4011a1b38f0e2788c7378cfb6b302ebb2697ddabc169dbb3d18b70997eb1"
  },
  "kernelspec": {
   "display_name": "Python 3.10.0 64-bit",
   "language": "python",
   "name": "python3"
  },
  "language_info": {
   "name": "python",
   "version": "3.10.0"
  },
  "orig_nbformat": 4
 },
 "nbformat": 4,
 "nbformat_minor": 2
}
