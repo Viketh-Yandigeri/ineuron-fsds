{
 "cells": [
  {
   "cell_type": "code",
   "execution_count": null,
   "metadata": {},
   "outputs": [],
   "source": [
    "1.Why are functions advantageous to have in your programs?\n",
    "\n",
    "Ans:\n",
    "In order to reduce duplicates\n",
    "Piece of code can be reused \n",
    "To breakdown complex and large task into simpler and smaller segments of code.\n",
    "Clartiy in code \n"
   ]
  },
  {
   "cell_type": "code",
   "execution_count": null,
   "metadata": {},
   "outputs": [],
   "source": [
    "2.When does the code in a function run: when it's specified or when it's called?\n",
    "\n",
    "Ans:\n",
    "\n",
    "Code in the function is executed when it is called."
   ]
  },
  {
   "cell_type": "code",
   "execution_count": null,
   "metadata": {},
   "outputs": [],
   "source": [
    "3.What statement creates a function?\n",
    "\n",
    "Ans:\n",
    "\n",
    "Statement to create a function is def.\n",
    "\n",
    "Example:\n",
    "def function_name():\n",
    "    code"
   ]
  },
  {
   "cell_type": "code",
   "execution_count": null,
   "metadata": {},
   "outputs": [],
   "source": [
    "4.What is the difference between a function and a function call?\n",
    "\n",
    "Ans:\n",
    "\n",
    "Function consist instructions or block of code defined using def statement to produce some results.\n",
    "Function call is when code in the fuction to be exceuted. Function is not executed untill the function is called.\n"
   ]
  },
  {
   "cell_type": "code",
   "execution_count": null,
   "metadata": {},
   "outputs": [],
   "source": [
    "5.How many global scopes are there in a Python program? How many local scopes?\n",
    "\n",
    "Ans:\n",
    "One global scope \n",
    "Local scopes are generated within a functions are destroyed after function execution."
   ]
  },
  {
   "cell_type": "code",
   "execution_count": null,
   "metadata": {},
   "outputs": [],
   "source": [
    "6.What happens to variables in a local scope when the function call returns?\n",
    "\n",
    "Ans:\n",
    "When the function call returns, local varaibles get destroyed.\n"
   ]
  },
  {
   "cell_type": "code",
   "execution_count": null,
   "metadata": {},
   "outputs": [],
   "source": [
    "7.What is the concept of a return value? Is it possible to have a return value in an expression?\n",
    "\n",
    "Ans:\n",
    "When compiler encounter return in a function, functions gets terminated and returns data that a function evalates to. Its is possible to return a value of a expression. Instructions or set of code is not exceuted which come after the return in a function."
   ]
  },
  {
   "cell_type": "code",
   "execution_count": null,
   "metadata": {},
   "outputs": [],
   "source": [
    "8.If a function does not have a return statement, what is the return value of a call to that function?\n",
    "\n",
    "Ans:\n",
    "If return statement is empty, then None is returned."
   ]
  },
  {
   "cell_type": "code",
   "execution_count": null,
   "metadata": {},
   "outputs": [],
   "source": [
    "9.How do you make a function variable refer to the global variable?\n",
    "\n",
    "Ans:\n",
    "\n",
    "By using global keyword.\n",
    "\n",
    "Ex:\n",
    "\n",
    "def func():\n",
    "    global a\n",
    "    return a * a"
   ]
  },
  {
   "cell_type": "code",
   "execution_count": null,
   "metadata": {},
   "outputs": [],
   "source": [
    "10.What is the data type of None?\n",
    "\n",
    "Ans: NoneType\n",
    "\n"
   ]
  },
  {
   "cell_type": "code",
   "execution_count": null,
   "metadata": {},
   "outputs": [],
   "source": [
    "11.What does the sentence import areallyourpetsnamederic do?\n",
    "\n",
    "There is no such module in python."
   ]
  },
  {
   "cell_type": "code",
   "execution_count": null,
   "metadata": {},
   "outputs": [],
   "source": [
    "12.If you had a bacon() feature in a spam module, what would you call it after importing spam?\n",
    "\n",
    "Ans:\n",
    "\n",
    "spam.bacon()"
   ]
  },
  {
   "cell_type": "code",
   "execution_count": null,
   "metadata": {},
   "outputs": [],
   "source": [
    "13.What can you do to save a programme from crashing if it encounters an error?\n",
    "\n",
    "Ans:\n",
    "\n",
    "Write code in try clause. "
   ]
  },
  {
   "cell_type": "code",
   "execution_count": null,
   "metadata": {},
   "outputs": [],
   "source": [
    "14.What is the purpose of the try clause? What is the purpose of the except clause?\n",
    "\n",
    "Ans:\n",
    "\n",
    "Code that may generate error go into try clause.\n",
    "If error occured in try clause, code in except clause gets executed."
   ]
  }
 ],
 "metadata": {
  "interpreter": {
   "hash": "96fd4011a1b38f0e2788c7378cfb6b302ebb2697ddabc169dbb3d18b70997eb1"
  },
  "kernelspec": {
   "display_name": "Python 3.10.0 64-bit",
   "language": "python",
   "name": "python3"
  },
  "language_info": {
   "name": "python",
   "version": "3.10.0"
  },
  "orig_nbformat": 4
 },
 "nbformat": 4,
 "nbformat_minor": 2
}
